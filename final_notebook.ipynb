{
 "cells": [
  {
   "cell_type": "code",
   "execution_count": 1,
   "metadata": {},
   "outputs": [],
   "source": [
    "# Import dependencies\n",
    "import pandas as pd\n",
    "import os\n",
    "from sqlalchemy import create_engine\n",
    "import Resources.config as c\n",
    "import warnings\n",
    "warnings.filterwarnings('ignore')\n",
    "import Resources.config as c"
   ]
  },
  {
   "cell_type": "code",
   "execution_count": 2,
   "metadata": {
    "scrolled": true
   },
   "outputs": [],
   "source": [
    "# Import movies, series, and IMDb CSV and create dataframes\n",
    "movies_csv = os.path.join(\"Resources\", \"streaming_movies.csv\")\n",
    "movies_df = pd.read_csv(movies_csv)\n",
    "\n",
    "series_csv = os.path.join(\"Resources\", \"streaming_series.csv\")\n",
    "series_df = pd.read_csv(series_csv)\n",
    "\n",
    "IMDB_movies = os.path.join(\"Resources/IMDb_movies.csv\")\n",
    "IMDB_movies_df = pd.read_csv(IMDB_movies, low_memory=False)"
   ]
  },
  {
   "cell_type": "code",
   "execution_count": 3,
   "metadata": {},
   "outputs": [
    {
     "output_type": "execute_result",
     "data": {
      "text/plain": [
       "   Unnamed: 0  ID                           Title  Year  Age  IMDb  \\\n",
       "0           0   1                       Inception  2010  13+   8.8   \n",
       "1           1   2                      The Matrix  1999  18+   8.7   \n",
       "2           2   3          Avengers: Infinity War  2018  13+   8.5   \n",
       "3           3   4              Back to the Future  1985   7+   8.5   \n",
       "4           4   5  The Good, the Bad and the Ugly  1966  18+   8.8   \n",
       "\n",
       "  Rotten Tomatoes  Netflix  Hulu  Prime Video  Disney+  Type  \\\n",
       "0             87%        1     0            0        0     0   \n",
       "1             87%        1     0            0        0     0   \n",
       "2             84%        1     0            0        0     0   \n",
       "3             96%        1     0            0        0     0   \n",
       "4             97%        1     0            1        0     0   \n",
       "\n",
       "                        Directors                            Genres  \\\n",
       "0               Christopher Nolan  Action,Adventure,Sci-Fi,Thriller   \n",
       "1  Lana Wachowski,Lilly Wachowski                     Action,Sci-Fi   \n",
       "2         Anthony Russo,Joe Russo           Action,Adventure,Sci-Fi   \n",
       "3                 Robert Zemeckis           Adventure,Comedy,Sci-Fi   \n",
       "4                    Sergio Leone                           Western   \n",
       "\n",
       "                        Country                 Language  Runtime  \n",
       "0  United States,United Kingdom  English,Japanese,French    148.0  \n",
       "1                 United States                  English    136.0  \n",
       "2                 United States                  English    149.0  \n",
       "3                 United States                  English    116.0  \n",
       "4      Italy,Spain,West Germany                  Italian    161.0  "
      ],
      "text/html": "<div>\n<style scoped>\n    .dataframe tbody tr th:only-of-type {\n        vertical-align: middle;\n    }\n\n    .dataframe tbody tr th {\n        vertical-align: top;\n    }\n\n    .dataframe thead th {\n        text-align: right;\n    }\n</style>\n<table border=\"1\" class=\"dataframe\">\n  <thead>\n    <tr style=\"text-align: right;\">\n      <th></th>\n      <th>Unnamed: 0</th>\n      <th>ID</th>\n      <th>Title</th>\n      <th>Year</th>\n      <th>Age</th>\n      <th>IMDb</th>\n      <th>Rotten Tomatoes</th>\n      <th>Netflix</th>\n      <th>Hulu</th>\n      <th>Prime Video</th>\n      <th>Disney+</th>\n      <th>Type</th>\n      <th>Directors</th>\n      <th>Genres</th>\n      <th>Country</th>\n      <th>Language</th>\n      <th>Runtime</th>\n    </tr>\n  </thead>\n  <tbody>\n    <tr>\n      <th>0</th>\n      <td>0</td>\n      <td>1</td>\n      <td>Inception</td>\n      <td>2010</td>\n      <td>13+</td>\n      <td>8.8</td>\n      <td>87%</td>\n      <td>1</td>\n      <td>0</td>\n      <td>0</td>\n      <td>0</td>\n      <td>0</td>\n      <td>Christopher Nolan</td>\n      <td>Action,Adventure,Sci-Fi,Thriller</td>\n      <td>United States,United Kingdom</td>\n      <td>English,Japanese,French</td>\n      <td>148.0</td>\n    </tr>\n    <tr>\n      <th>1</th>\n      <td>1</td>\n      <td>2</td>\n      <td>The Matrix</td>\n      <td>1999</td>\n      <td>18+</td>\n      <td>8.7</td>\n      <td>87%</td>\n      <td>1</td>\n      <td>0</td>\n      <td>0</td>\n      <td>0</td>\n      <td>0</td>\n      <td>Lana Wachowski,Lilly Wachowski</td>\n      <td>Action,Sci-Fi</td>\n      <td>United States</td>\n      <td>English</td>\n      <td>136.0</td>\n    </tr>\n    <tr>\n      <th>2</th>\n      <td>2</td>\n      <td>3</td>\n      <td>Avengers: Infinity War</td>\n      <td>2018</td>\n      <td>13+</td>\n      <td>8.5</td>\n      <td>84%</td>\n      <td>1</td>\n      <td>0</td>\n      <td>0</td>\n      <td>0</td>\n      <td>0</td>\n      <td>Anthony Russo,Joe Russo</td>\n      <td>Action,Adventure,Sci-Fi</td>\n      <td>United States</td>\n      <td>English</td>\n      <td>149.0</td>\n    </tr>\n    <tr>\n      <th>3</th>\n      <td>3</td>\n      <td>4</td>\n      <td>Back to the Future</td>\n      <td>1985</td>\n      <td>7+</td>\n      <td>8.5</td>\n      <td>96%</td>\n      <td>1</td>\n      <td>0</td>\n      <td>0</td>\n      <td>0</td>\n      <td>0</td>\n      <td>Robert Zemeckis</td>\n      <td>Adventure,Comedy,Sci-Fi</td>\n      <td>United States</td>\n      <td>English</td>\n      <td>116.0</td>\n    </tr>\n    <tr>\n      <th>4</th>\n      <td>4</td>\n      <td>5</td>\n      <td>The Good, the Bad and the Ugly</td>\n      <td>1966</td>\n      <td>18+</td>\n      <td>8.8</td>\n      <td>97%</td>\n      <td>1</td>\n      <td>0</td>\n      <td>1</td>\n      <td>0</td>\n      <td>0</td>\n      <td>Sergio Leone</td>\n      <td>Western</td>\n      <td>Italy,Spain,West Germany</td>\n      <td>Italian</td>\n      <td>161.0</td>\n    </tr>\n  </tbody>\n</table>\n</div>"
     },
     "metadata": {},
     "execution_count": 3
    }
   ],
   "source": [
    "# View movies dataframe\n",
    "movies_df.head()"
   ]
  },
  {
   "cell_type": "code",
   "execution_count": 4,
   "metadata": {},
   "outputs": [
    {
     "output_type": "execute_result",
     "data": {
      "text/plain": [
       "   Unnamed: 0             Title  Year  Age  IMDb Rotten Tomatoes  Netflix  \\\n",
       "0           0      Breaking Bad  2008  18+   9.5             96%        1   \n",
       "1           1   Stranger Things  2016  16+   8.8             93%        1   \n",
       "2           2       Money Heist  2017  18+   8.4             91%        1   \n",
       "3           3          Sherlock  2010  16+   9.1             78%        1   \n",
       "4           4  Better Call Saul  2015  18+   8.7             97%        1   \n",
       "\n",
       "   Hulu  Prime Video  Disney+  type  \n",
       "0     0            0        0     1  \n",
       "1     0            0        0     1  \n",
       "2     0            0        0     1  \n",
       "3     0            0        0     1  \n",
       "4     0            0        0     1  "
      ],
      "text/html": "<div>\n<style scoped>\n    .dataframe tbody tr th:only-of-type {\n        vertical-align: middle;\n    }\n\n    .dataframe tbody tr th {\n        vertical-align: top;\n    }\n\n    .dataframe thead th {\n        text-align: right;\n    }\n</style>\n<table border=\"1\" class=\"dataframe\">\n  <thead>\n    <tr style=\"text-align: right;\">\n      <th></th>\n      <th>Unnamed: 0</th>\n      <th>Title</th>\n      <th>Year</th>\n      <th>Age</th>\n      <th>IMDb</th>\n      <th>Rotten Tomatoes</th>\n      <th>Netflix</th>\n      <th>Hulu</th>\n      <th>Prime Video</th>\n      <th>Disney+</th>\n      <th>type</th>\n    </tr>\n  </thead>\n  <tbody>\n    <tr>\n      <th>0</th>\n      <td>0</td>\n      <td>Breaking Bad</td>\n      <td>2008</td>\n      <td>18+</td>\n      <td>9.5</td>\n      <td>96%</td>\n      <td>1</td>\n      <td>0</td>\n      <td>0</td>\n      <td>0</td>\n      <td>1</td>\n    </tr>\n    <tr>\n      <th>1</th>\n      <td>1</td>\n      <td>Stranger Things</td>\n      <td>2016</td>\n      <td>16+</td>\n      <td>8.8</td>\n      <td>93%</td>\n      <td>1</td>\n      <td>0</td>\n      <td>0</td>\n      <td>0</td>\n      <td>1</td>\n    </tr>\n    <tr>\n      <th>2</th>\n      <td>2</td>\n      <td>Money Heist</td>\n      <td>2017</td>\n      <td>18+</td>\n      <td>8.4</td>\n      <td>91%</td>\n      <td>1</td>\n      <td>0</td>\n      <td>0</td>\n      <td>0</td>\n      <td>1</td>\n    </tr>\n    <tr>\n      <th>3</th>\n      <td>3</td>\n      <td>Sherlock</td>\n      <td>2010</td>\n      <td>16+</td>\n      <td>9.1</td>\n      <td>78%</td>\n      <td>1</td>\n      <td>0</td>\n      <td>0</td>\n      <td>0</td>\n      <td>1</td>\n    </tr>\n    <tr>\n      <th>4</th>\n      <td>4</td>\n      <td>Better Call Saul</td>\n      <td>2015</td>\n      <td>18+</td>\n      <td>8.7</td>\n      <td>97%</td>\n      <td>1</td>\n      <td>0</td>\n      <td>0</td>\n      <td>0</td>\n      <td>1</td>\n    </tr>\n  </tbody>\n</table>\n</div>"
     },
     "metadata": {},
     "execution_count": 4
    }
   ],
   "source": [
    "# View series dataframe\n",
    "series_df.head()"
   ]
  },
  {
   "cell_type": "code",
   "execution_count": 5,
   "metadata": {},
   "outputs": [],
   "source": [
    "# Drop unnamed columns from the movies and series CSVs \n",
    "# (used Stack Overflow for this: https://stackoverflow.com/questions/43983622/remove-unnamed-columns-in-pandas-dataframe/43983654)\n",
    "movies_df.drop(movies_df.columns[movies_df.columns.str.contains('unnamed',case = False)],axis = 1, inplace = True)\n",
    "series_df.drop(series_df.columns[series_df.columns.str.contains('unnamed',case = False)],axis = 1, inplace = True)"
   ]
  },
  {
   "cell_type": "code",
   "execution_count": 6,
   "metadata": {},
   "outputs": [
    {
     "output_type": "stream",
     "name": "stdout",
     "text": [
      "ID                 16744\nTitle              16744\nYear               16744\nAge                 7354\nIMDb               16173\nRotten Tomatoes     5158\nNetflix            16744\nHulu               16744\nPrime Video        16744\nDisney+            16744\nType               16744\nDirectors          16018\nGenres             16469\nCountry            16309\nLanguage           16145\nRuntime            16152\ndtype: int64\n-----------------\nTitle              5611\nYear               5611\nAge                3165\nIMDb               4450\nRotten Tomatoes    1011\nNetflix            5611\nHulu               5611\nPrime Video        5611\nDisney+            5611\ntype               5611\ndtype: int64\n"
     ]
    }
   ],
   "source": [
    "# Find missing data in the movies and series dataframe\n",
    "print(movies_df.count())\n",
    "print(\"-----------------\") # Makes it easier to read\n",
    "print(series_df.count())"
   ]
  },
  {
   "cell_type": "code",
   "execution_count": 7,
   "metadata": {},
   "outputs": [
    {
     "output_type": "stream",
     "name": "stdout",
     "text": [
      "ID                 3301\nTitle              3301\nYear               3301\nAge                3301\nIMDb               3301\nRotten Tomatoes    3301\nNetflix            3301\nHulu               3301\nPrime Video        3301\nDisney+            3301\nType               3301\nDirectors          3301\nGenres             3301\nCountry            3301\nLanguage           3301\nRuntime            3301\ndtype: int64\n---------------\nTitle              931\nYear               931\nAge                931\nIMDb               931\nRotten Tomatoes    931\nNetflix            931\nHulu               931\nPrime Video        931\nDisney+            931\ntype               931\ndtype: int64\n"
     ]
    }
   ],
   "source": [
    "# Drop any rows missing data\n",
    "movies_df.dropna(axis=0, how=\"any\", inplace=True)\n",
    "series_df.dropna(axis=0, how=\"any\", inplace=True)\n",
    "\n",
    "print(movies_df.count())\n",
    "print(\"---------------\")\n",
    "print(series_df.count())"
   ]
  },
  {
   "cell_type": "code",
   "execution_count": 8,
   "metadata": {},
   "outputs": [
    {
     "output_type": "stream",
     "name": "stdout",
     "text": [
      "ID                   int64\nTitle               object\nYear                 int64\nAge                 object\nIMDb               float64\nRotten Tomatoes     object\nNetflix              int64\nHulu                 int64\nPrime Video          int64\nDisney+              int64\nType                 int64\nDirectors           object\nGenres              object\nCountry             object\nLanguage            object\nRuntime            float64\ndtype: object\n--------------\nTitle               object\nYear                 int64\nAge                 object\nIMDb               float64\nRotten Tomatoes     object\nNetflix              int64\nHulu                 int64\nPrime Video          int64\nDisney+              int64\ntype                 int64\ndtype: object\n"
     ]
    }
   ],
   "source": [
    "# Find column types in case we need to convert to other type\n",
    "print(movies_df.dtypes)\n",
    "print(\"--------------\")\n",
    "print(series_df.dtypes)"
   ]
  },
  {
   "cell_type": "code",
   "execution_count": 9,
   "metadata": {
    "scrolled": true
   },
   "outputs": [],
   "source": [
    "# Combine title and year for both movies and series which we will then use to create a unique ID for each film \n",
    "# Used code from \"https://cmdlinetips.com/2018/11/how-to-join-two-text-columns-into-a-single-column-in-pandas/\" to help with this\n",
    "movies_df[\"Movie_Title\"] = movies_df[\"Year\"].astype(str).str.cat(movies_df[\"Title\"],sep=\"-\")\n",
    "series_df[\"Movie_Title\"] = series_df[\"Year\"].astype(str).str.cat(series_df[\"Title\"],sep=\"-\")"
   ]
  },
  {
   "cell_type": "code",
   "execution_count": 10,
   "metadata": {},
   "outputs": [
    {
     "output_type": "execute_result",
     "data": {
      "text/plain": [
       "             Unique_ID                           Title  Year  Age  IMDb  \\\n",
       "0  3353255878963028353                       Inception  2010  13+   8.8   \n",
       "1 -5184210925941368056                      The Matrix  1999  18+   8.7   \n",
       "2  2721945714620145150          Avengers: Infinity War  2018  13+   8.5   \n",
       "3 -6037567714654325504              Back to the Future  1985   7+   8.5   \n",
       "4  1540339058890638920  The Good, the Bad and the Ugly  1966  18+   8.8   \n",
       "\n",
       "  Rotten Tomatoes  Netflix  Hulu  Prime Video  Disney+  \\\n",
       "0             87%        1     0            0        0   \n",
       "1             87%        1     0            0        0   \n",
       "2             84%        1     0            0        0   \n",
       "3             96%        1     0            0        0   \n",
       "4             97%        1     0            1        0   \n",
       "\n",
       "                        Directors                            Genres  \\\n",
       "0               Christopher Nolan  Action,Adventure,Sci-Fi,Thriller   \n",
       "1  Lana Wachowski,Lilly Wachowski                     Action,Sci-Fi   \n",
       "2         Anthony Russo,Joe Russo           Action,Adventure,Sci-Fi   \n",
       "3                 Robert Zemeckis           Adventure,Comedy,Sci-Fi   \n",
       "4                    Sergio Leone                           Western   \n",
       "\n",
       "                        Country                 Language  Runtime  \\\n",
       "0  United States,United Kingdom  English,Japanese,French    148.0   \n",
       "1                 United States                  English    136.0   \n",
       "2                 United States                  English    149.0   \n",
       "3                 United States                  English    116.0   \n",
       "4      Italy,Spain,West Germany                  Italian    161.0   \n",
       "\n",
       "                           Movie_Title  \n",
       "0                       2010-Inception  \n",
       "1                      1999-The Matrix  \n",
       "2          2018-Avengers: Infinity War  \n",
       "3              1985-Back to the Future  \n",
       "4  1966-The Good, the Bad and the Ugly  "
      ],
      "text/html": "<div>\n<style scoped>\n    .dataframe tbody tr th:only-of-type {\n        vertical-align: middle;\n    }\n\n    .dataframe tbody tr th {\n        vertical-align: top;\n    }\n\n    .dataframe thead th {\n        text-align: right;\n    }\n</style>\n<table border=\"1\" class=\"dataframe\">\n  <thead>\n    <tr style=\"text-align: right;\">\n      <th></th>\n      <th>Unique_ID</th>\n      <th>Title</th>\n      <th>Year</th>\n      <th>Age</th>\n      <th>IMDb</th>\n      <th>Rotten Tomatoes</th>\n      <th>Netflix</th>\n      <th>Hulu</th>\n      <th>Prime Video</th>\n      <th>Disney+</th>\n      <th>Directors</th>\n      <th>Genres</th>\n      <th>Country</th>\n      <th>Language</th>\n      <th>Runtime</th>\n      <th>Movie_Title</th>\n    </tr>\n  </thead>\n  <tbody>\n    <tr>\n      <th>0</th>\n      <td>3353255878963028353</td>\n      <td>Inception</td>\n      <td>2010</td>\n      <td>13+</td>\n      <td>8.8</td>\n      <td>87%</td>\n      <td>1</td>\n      <td>0</td>\n      <td>0</td>\n      <td>0</td>\n      <td>Christopher Nolan</td>\n      <td>Action,Adventure,Sci-Fi,Thriller</td>\n      <td>United States,United Kingdom</td>\n      <td>English,Japanese,French</td>\n      <td>148.0</td>\n      <td>2010-Inception</td>\n    </tr>\n    <tr>\n      <th>1</th>\n      <td>-5184210925941368056</td>\n      <td>The Matrix</td>\n      <td>1999</td>\n      <td>18+</td>\n      <td>8.7</td>\n      <td>87%</td>\n      <td>1</td>\n      <td>0</td>\n      <td>0</td>\n      <td>0</td>\n      <td>Lana Wachowski,Lilly Wachowski</td>\n      <td>Action,Sci-Fi</td>\n      <td>United States</td>\n      <td>English</td>\n      <td>136.0</td>\n      <td>1999-The Matrix</td>\n    </tr>\n    <tr>\n      <th>2</th>\n      <td>2721945714620145150</td>\n      <td>Avengers: Infinity War</td>\n      <td>2018</td>\n      <td>13+</td>\n      <td>8.5</td>\n      <td>84%</td>\n      <td>1</td>\n      <td>0</td>\n      <td>0</td>\n      <td>0</td>\n      <td>Anthony Russo,Joe Russo</td>\n      <td>Action,Adventure,Sci-Fi</td>\n      <td>United States</td>\n      <td>English</td>\n      <td>149.0</td>\n      <td>2018-Avengers: Infinity War</td>\n    </tr>\n    <tr>\n      <th>3</th>\n      <td>-6037567714654325504</td>\n      <td>Back to the Future</td>\n      <td>1985</td>\n      <td>7+</td>\n      <td>8.5</td>\n      <td>96%</td>\n      <td>1</td>\n      <td>0</td>\n      <td>0</td>\n      <td>0</td>\n      <td>Robert Zemeckis</td>\n      <td>Adventure,Comedy,Sci-Fi</td>\n      <td>United States</td>\n      <td>English</td>\n      <td>116.0</td>\n      <td>1985-Back to the Future</td>\n    </tr>\n    <tr>\n      <th>4</th>\n      <td>1540339058890638920</td>\n      <td>The Good, the Bad and the Ugly</td>\n      <td>1966</td>\n      <td>18+</td>\n      <td>8.8</td>\n      <td>97%</td>\n      <td>1</td>\n      <td>0</td>\n      <td>1</td>\n      <td>0</td>\n      <td>Sergio Leone</td>\n      <td>Western</td>\n      <td>Italy,Spain,West Germany</td>\n      <td>Italian</td>\n      <td>161.0</td>\n      <td>1966-The Good, the Bad and the Ugly</td>\n    </tr>\n  </tbody>\n</table>\n</div>"
     },
     "metadata": {},
     "execution_count": 10
    }
   ],
   "source": [
    "# Use hash func to create unique ID for movies, then add to dataframe\n",
    "unique_movie_id = (movies_df['Movie_Title'].apply(hash))\n",
    "movies_df.insert(0,\"Unique_ID\", unique_movie_id)\n",
    "del movies_df[\"ID\"]\n",
    "del movies_df[\"Type\"]\n",
    "movies_df.head()"
   ]
  },
  {
   "cell_type": "code",
   "execution_count": 11,
   "metadata": {},
   "outputs": [
    {
     "output_type": "execute_result",
     "data": {
      "text/plain": [
       "             Unique_ID             Title  Year  Age  IMDb Rotten Tomatoes  \\\n",
       "0 -4172620574754119178      Breaking Bad  2008  18+   9.5             96%   \n",
       "1  8846535452306050157   Stranger Things  2016  16+   8.8             93%   \n",
       "2   245040933651337214       Money Heist  2017  18+   8.4             91%   \n",
       "3   886905699165934950          Sherlock  2010  16+   9.1             78%   \n",
       "4 -1746450592548723018  Better Call Saul  2015  18+   8.7             97%   \n",
       "\n",
       "   Netflix  Hulu  Prime Video  Disney+            Movie_Title  \n",
       "0        1     0            0        0      2008-Breaking Bad  \n",
       "1        1     0            0        0   2016-Stranger Things  \n",
       "2        1     0            0        0       2017-Money Heist  \n",
       "3        1     0            0        0          2010-Sherlock  \n",
       "4        1     0            0        0  2015-Better Call Saul  "
      ],
      "text/html": "<div>\n<style scoped>\n    .dataframe tbody tr th:only-of-type {\n        vertical-align: middle;\n    }\n\n    .dataframe tbody tr th {\n        vertical-align: top;\n    }\n\n    .dataframe thead th {\n        text-align: right;\n    }\n</style>\n<table border=\"1\" class=\"dataframe\">\n  <thead>\n    <tr style=\"text-align: right;\">\n      <th></th>\n      <th>Unique_ID</th>\n      <th>Title</th>\n      <th>Year</th>\n      <th>Age</th>\n      <th>IMDb</th>\n      <th>Rotten Tomatoes</th>\n      <th>Netflix</th>\n      <th>Hulu</th>\n      <th>Prime Video</th>\n      <th>Disney+</th>\n      <th>Movie_Title</th>\n    </tr>\n  </thead>\n  <tbody>\n    <tr>\n      <th>0</th>\n      <td>-4172620574754119178</td>\n      <td>Breaking Bad</td>\n      <td>2008</td>\n      <td>18+</td>\n      <td>9.5</td>\n      <td>96%</td>\n      <td>1</td>\n      <td>0</td>\n      <td>0</td>\n      <td>0</td>\n      <td>2008-Breaking Bad</td>\n    </tr>\n    <tr>\n      <th>1</th>\n      <td>8846535452306050157</td>\n      <td>Stranger Things</td>\n      <td>2016</td>\n      <td>16+</td>\n      <td>8.8</td>\n      <td>93%</td>\n      <td>1</td>\n      <td>0</td>\n      <td>0</td>\n      <td>0</td>\n      <td>2016-Stranger Things</td>\n    </tr>\n    <tr>\n      <th>2</th>\n      <td>245040933651337214</td>\n      <td>Money Heist</td>\n      <td>2017</td>\n      <td>18+</td>\n      <td>8.4</td>\n      <td>91%</td>\n      <td>1</td>\n      <td>0</td>\n      <td>0</td>\n      <td>0</td>\n      <td>2017-Money Heist</td>\n    </tr>\n    <tr>\n      <th>3</th>\n      <td>886905699165934950</td>\n      <td>Sherlock</td>\n      <td>2010</td>\n      <td>16+</td>\n      <td>9.1</td>\n      <td>78%</td>\n      <td>1</td>\n      <td>0</td>\n      <td>0</td>\n      <td>0</td>\n      <td>2010-Sherlock</td>\n    </tr>\n    <tr>\n      <th>4</th>\n      <td>-1746450592548723018</td>\n      <td>Better Call Saul</td>\n      <td>2015</td>\n      <td>18+</td>\n      <td>8.7</td>\n      <td>97%</td>\n      <td>1</td>\n      <td>0</td>\n      <td>0</td>\n      <td>0</td>\n      <td>2015-Better Call Saul</td>\n    </tr>\n  </tbody>\n</table>\n</div>"
     },
     "metadata": {},
     "execution_count": 11
    }
   ],
   "source": [
    "# Use hash func to create unique ID for series, then add to dataframe\n",
    "unique_id = (series_df['Movie_Title'].apply(hash))\n",
    "series_df.insert(0,\"Unique_ID\", unique_id)\n",
    "del series_df[\"type\"]\n",
    "series_df.head()"
   ]
  },
  {
   "cell_type": "code",
   "execution_count": 12,
   "metadata": {
    "scrolled": true
   },
   "outputs": [],
   "source": [
    "# Rename columns so they be can be read in postgres\n",
    "movies_df = movies_df.rename(columns={\"Unique_ID\":\"unique_id\", \"Title\":\"title\", \"Year\":\"year\", \"Age\":\"age\", \"IMDb\":\"imdb\", \"Rotten Tomatoes\":\"rotten_tomatoes\", \n",
    "                                      \"Netflix\":\"netflix\", \"Hulu\":\"hulu\", \"Prime Video\":\"prime_video\", \"Disney+\":\"disney_plus\", \"Directors\":\"directors\", \n",
    "                                      \"Genres\":\"genres\", \"Country\":\"country\", \"Language\":\"language\", \"Runtime\":\"runtime\", \"Movie_Title\":\"movie_title\"})\n",
    "series_df = series_df.rename(columns={\"Unique_ID\":\"unique_id\", \"Title\":\"title\", \"Year\":\"year\", \"Age\":\"age\", \"IMDb\":\"imdb\", \"Rotten Tomatoes\":\"rotten_tomatoes\", \n",
    "                                      \"Netflix\":\"netflix\", \"Hulu\":\"hulu\", \"Prime Video\":\"prime_video\", \"Disney+\":\"disney_plus\", \"Movie_Title\":\"movie_title\"})"
   ]
  },
  {
   "cell_type": "code",
   "execution_count": 13,
   "metadata": {
    "scrolled": true
   },
   "outputs": [],
   "source": [
    "# Set index to unique_id so this can be our primary key in postgres\n",
    "movies_df.set_index(\"unique_id\", inplace=True)\n",
    "series_df.set_index(\"unique_id\", inplace=True)"
   ]
  },
  {
   "cell_type": "code",
   "execution_count": 14,
   "metadata": {},
   "outputs": [
    {
     "output_type": "execute_result",
     "data": {
      "text/plain": [
       "                                               title  year  age  imdb  \\\n",
       "unique_id                                                               \n",
       " 3353255878963028353                       Inception  2010  13+   8.8   \n",
       "-5184210925941368056                      The Matrix  1999  18+   8.7   \n",
       " 2721945714620145150          Avengers: Infinity War  2018  13+   8.5   \n",
       "-6037567714654325504              Back to the Future  1985   7+   8.5   \n",
       " 1540339058890638920  The Good, the Bad and the Ugly  1966  18+   8.8   \n",
       "\n",
       "                     rotten_tomatoes  netflix  hulu  prime_video  disney_plus  \\\n",
       "unique_id                                                                       \n",
       " 3353255878963028353             87%        1     0            0            0   \n",
       "-5184210925941368056             87%        1     0            0            0   \n",
       " 2721945714620145150             84%        1     0            0            0   \n",
       "-6037567714654325504             96%        1     0            0            0   \n",
       " 1540339058890638920             97%        1     0            1            0   \n",
       "\n",
       "                                           directors  \\\n",
       "unique_id                                              \n",
       " 3353255878963028353               Christopher Nolan   \n",
       "-5184210925941368056  Lana Wachowski,Lilly Wachowski   \n",
       " 2721945714620145150         Anthony Russo,Joe Russo   \n",
       "-6037567714654325504                 Robert Zemeckis   \n",
       " 1540339058890638920                    Sergio Leone   \n",
       "\n",
       "                                                genres  \\\n",
       "unique_id                                                \n",
       " 3353255878963028353  Action,Adventure,Sci-Fi,Thriller   \n",
       "-5184210925941368056                     Action,Sci-Fi   \n",
       " 2721945714620145150           Action,Adventure,Sci-Fi   \n",
       "-6037567714654325504           Adventure,Comedy,Sci-Fi   \n",
       " 1540339058890638920                           Western   \n",
       "\n",
       "                                           country                 language  \\\n",
       "unique_id                                                                     \n",
       " 3353255878963028353  United States,United Kingdom  English,Japanese,French   \n",
       "-5184210925941368056                 United States                  English   \n",
       " 2721945714620145150                 United States                  English   \n",
       "-6037567714654325504                 United States                  English   \n",
       " 1540339058890638920      Italy,Spain,West Germany                  Italian   \n",
       "\n",
       "                      runtime                          movie_title  \n",
       "unique_id                                                           \n",
       " 3353255878963028353    148.0                       2010-Inception  \n",
       "-5184210925941368056    136.0                      1999-The Matrix  \n",
       " 2721945714620145150    149.0          2018-Avengers: Infinity War  \n",
       "-6037567714654325504    116.0              1985-Back to the Future  \n",
       " 1540339058890638920    161.0  1966-The Good, the Bad and the Ugly  "
      ],
      "text/html": "<div>\n<style scoped>\n    .dataframe tbody tr th:only-of-type {\n        vertical-align: middle;\n    }\n\n    .dataframe tbody tr th {\n        vertical-align: top;\n    }\n\n    .dataframe thead th {\n        text-align: right;\n    }\n</style>\n<table border=\"1\" class=\"dataframe\">\n  <thead>\n    <tr style=\"text-align: right;\">\n      <th></th>\n      <th>title</th>\n      <th>year</th>\n      <th>age</th>\n      <th>imdb</th>\n      <th>rotten_tomatoes</th>\n      <th>netflix</th>\n      <th>hulu</th>\n      <th>prime_video</th>\n      <th>disney_plus</th>\n      <th>directors</th>\n      <th>genres</th>\n      <th>country</th>\n      <th>language</th>\n      <th>runtime</th>\n      <th>movie_title</th>\n    </tr>\n    <tr>\n      <th>unique_id</th>\n      <th></th>\n      <th></th>\n      <th></th>\n      <th></th>\n      <th></th>\n      <th></th>\n      <th></th>\n      <th></th>\n      <th></th>\n      <th></th>\n      <th></th>\n      <th></th>\n      <th></th>\n      <th></th>\n      <th></th>\n    </tr>\n  </thead>\n  <tbody>\n    <tr>\n      <th>3353255878963028353</th>\n      <td>Inception</td>\n      <td>2010</td>\n      <td>13+</td>\n      <td>8.8</td>\n      <td>87%</td>\n      <td>1</td>\n      <td>0</td>\n      <td>0</td>\n      <td>0</td>\n      <td>Christopher Nolan</td>\n      <td>Action,Adventure,Sci-Fi,Thriller</td>\n      <td>United States,United Kingdom</td>\n      <td>English,Japanese,French</td>\n      <td>148.0</td>\n      <td>2010-Inception</td>\n    </tr>\n    <tr>\n      <th>-5184210925941368056</th>\n      <td>The Matrix</td>\n      <td>1999</td>\n      <td>18+</td>\n      <td>8.7</td>\n      <td>87%</td>\n      <td>1</td>\n      <td>0</td>\n      <td>0</td>\n      <td>0</td>\n      <td>Lana Wachowski,Lilly Wachowski</td>\n      <td>Action,Sci-Fi</td>\n      <td>United States</td>\n      <td>English</td>\n      <td>136.0</td>\n      <td>1999-The Matrix</td>\n    </tr>\n    <tr>\n      <th>2721945714620145150</th>\n      <td>Avengers: Infinity War</td>\n      <td>2018</td>\n      <td>13+</td>\n      <td>8.5</td>\n      <td>84%</td>\n      <td>1</td>\n      <td>0</td>\n      <td>0</td>\n      <td>0</td>\n      <td>Anthony Russo,Joe Russo</td>\n      <td>Action,Adventure,Sci-Fi</td>\n      <td>United States</td>\n      <td>English</td>\n      <td>149.0</td>\n      <td>2018-Avengers: Infinity War</td>\n    </tr>\n    <tr>\n      <th>-6037567714654325504</th>\n      <td>Back to the Future</td>\n      <td>1985</td>\n      <td>7+</td>\n      <td>8.5</td>\n      <td>96%</td>\n      <td>1</td>\n      <td>0</td>\n      <td>0</td>\n      <td>0</td>\n      <td>Robert Zemeckis</td>\n      <td>Adventure,Comedy,Sci-Fi</td>\n      <td>United States</td>\n      <td>English</td>\n      <td>116.0</td>\n      <td>1985-Back to the Future</td>\n    </tr>\n    <tr>\n      <th>1540339058890638920</th>\n      <td>The Good, the Bad and the Ugly</td>\n      <td>1966</td>\n      <td>18+</td>\n      <td>8.8</td>\n      <td>97%</td>\n      <td>1</td>\n      <td>0</td>\n      <td>1</td>\n      <td>0</td>\n      <td>Sergio Leone</td>\n      <td>Western</td>\n      <td>Italy,Spain,West Germany</td>\n      <td>Italian</td>\n      <td>161.0</td>\n      <td>1966-The Good, the Bad and the Ugly</td>\n    </tr>\n  </tbody>\n</table>\n</div>"
     },
     "metadata": {},
     "execution_count": 14
    }
   ],
   "source": [
    "# View cleaned movies dataframe\n",
    "movies_df.head()"
   ]
  },
  {
   "cell_type": "code",
   "execution_count": 15,
   "metadata": {},
   "outputs": [
    {
     "output_type": "execute_result",
     "data": {
      "text/plain": [
       "                                 title  year  age  imdb rotten_tomatoes  \\\n",
       "unique_id                                                                 \n",
       "-4172620574754119178      Breaking Bad  2008  18+   9.5             96%   \n",
       " 8846535452306050157   Stranger Things  2016  16+   8.8             93%   \n",
       " 245040933651337214        Money Heist  2017  18+   8.4             91%   \n",
       " 886905699165934950           Sherlock  2010  16+   9.1             78%   \n",
       "-1746450592548723018  Better Call Saul  2015  18+   8.7             97%   \n",
       "\n",
       "                      netflix  hulu  prime_video  disney_plus  \\\n",
       "unique_id                                                       \n",
       "-4172620574754119178        1     0            0            0   \n",
       " 8846535452306050157        1     0            0            0   \n",
       " 245040933651337214         1     0            0            0   \n",
       " 886905699165934950         1     0            0            0   \n",
       "-1746450592548723018        1     0            0            0   \n",
       "\n",
       "                                movie_title  \n",
       "unique_id                                    \n",
       "-4172620574754119178      2008-Breaking Bad  \n",
       " 8846535452306050157   2016-Stranger Things  \n",
       " 245040933651337214        2017-Money Heist  \n",
       " 886905699165934950           2010-Sherlock  \n",
       "-1746450592548723018  2015-Better Call Saul  "
      ],
      "text/html": "<div>\n<style scoped>\n    .dataframe tbody tr th:only-of-type {\n        vertical-align: middle;\n    }\n\n    .dataframe tbody tr th {\n        vertical-align: top;\n    }\n\n    .dataframe thead th {\n        text-align: right;\n    }\n</style>\n<table border=\"1\" class=\"dataframe\">\n  <thead>\n    <tr style=\"text-align: right;\">\n      <th></th>\n      <th>title</th>\n      <th>year</th>\n      <th>age</th>\n      <th>imdb</th>\n      <th>rotten_tomatoes</th>\n      <th>netflix</th>\n      <th>hulu</th>\n      <th>prime_video</th>\n      <th>disney_plus</th>\n      <th>movie_title</th>\n    </tr>\n    <tr>\n      <th>unique_id</th>\n      <th></th>\n      <th></th>\n      <th></th>\n      <th></th>\n      <th></th>\n      <th></th>\n      <th></th>\n      <th></th>\n      <th></th>\n      <th></th>\n    </tr>\n  </thead>\n  <tbody>\n    <tr>\n      <th>-4172620574754119178</th>\n      <td>Breaking Bad</td>\n      <td>2008</td>\n      <td>18+</td>\n      <td>9.5</td>\n      <td>96%</td>\n      <td>1</td>\n      <td>0</td>\n      <td>0</td>\n      <td>0</td>\n      <td>2008-Breaking Bad</td>\n    </tr>\n    <tr>\n      <th>8846535452306050157</th>\n      <td>Stranger Things</td>\n      <td>2016</td>\n      <td>16+</td>\n      <td>8.8</td>\n      <td>93%</td>\n      <td>1</td>\n      <td>0</td>\n      <td>0</td>\n      <td>0</td>\n      <td>2016-Stranger Things</td>\n    </tr>\n    <tr>\n      <th>245040933651337214</th>\n      <td>Money Heist</td>\n      <td>2017</td>\n      <td>18+</td>\n      <td>8.4</td>\n      <td>91%</td>\n      <td>1</td>\n      <td>0</td>\n      <td>0</td>\n      <td>0</td>\n      <td>2017-Money Heist</td>\n    </tr>\n    <tr>\n      <th>886905699165934950</th>\n      <td>Sherlock</td>\n      <td>2010</td>\n      <td>16+</td>\n      <td>9.1</td>\n      <td>78%</td>\n      <td>1</td>\n      <td>0</td>\n      <td>0</td>\n      <td>0</td>\n      <td>2010-Sherlock</td>\n    </tr>\n    <tr>\n      <th>-1746450592548723018</th>\n      <td>Better Call Saul</td>\n      <td>2015</td>\n      <td>18+</td>\n      <td>8.7</td>\n      <td>97%</td>\n      <td>1</td>\n      <td>0</td>\n      <td>0</td>\n      <td>0</td>\n      <td>2015-Better Call Saul</td>\n    </tr>\n  </tbody>\n</table>\n</div>"
     },
     "metadata": {},
     "execution_count": 15
    }
   ],
   "source": [
    "# View cleaned series dataframe\n",
    "series_df.head()"
   ]
  },
  {
   "cell_type": "code",
   "execution_count": 16,
   "metadata": {},
   "outputs": [
    {
     "output_type": "execute_result",
     "data": {
      "text/plain": [
       "  imdb_title_id                        title               original_title  \\\n",
       "0     tt0000009                   Miss Jerry                   Miss Jerry   \n",
       "1     tt0000574  The Story of the Kelly Gang  The Story of the Kelly Gang   \n",
       "2     tt0001892               Den sorte drøm               Den sorte drøm   \n",
       "3     tt0002101                    Cleopatra                    Cleopatra   \n",
       "4     tt0002130                    L'Inferno                    L'Inferno   \n",
       "\n",
       "   year date_published                      genre  duration           country  \\\n",
       "0  1894     1894-10-09                    Romance        45               USA   \n",
       "1  1906       12/26/06    Biography, Crime, Drama        70         Australia   \n",
       "2  1911        8/19/11                      Drama        53  Germany, Denmark   \n",
       "3  1912       11/13/12             Drama, History       100               USA   \n",
       "4  1911         3/6/11  Adventure, Drama, Fantasy        68             Italy   \n",
       "\n",
       "  language                             director  ...  \\\n",
       "0     None                      Alexander Black  ...   \n",
       "1     None                         Charles Tait  ...   \n",
       "2      NaN                            Urban Gad  ...   \n",
       "3  English                   Charles L. Gaskill  ...   \n",
       "4  Italian  Francesco Bertolini, Adolfo Padovan  ...   \n",
       "\n",
       "                                              actors  \\\n",
       "0  Blanche Bayliss, William Courtenay, Chauncey D...   \n",
       "1  Elizabeth Tait, John Tait, Norman Campbell, Be...   \n",
       "2  Asta Nielsen, Valdemar Psilander, Gunnar Helse...   \n",
       "3  Helen Gardner, Pearl Sindelar, Miss Fielding, ...   \n",
       "4  Salvatore Papa, Arturo Pirovano, Giuseppe de L...   \n",
       "\n",
       "                                         description avg_vote votes    budget  \\\n",
       "0  The adventures of a female reporter in the 1890s.      5.9   154       NaN   \n",
       "1  True story of notorious Australian outlaw Ned ...      6.1   589   $2,250    \n",
       "2  Two men of high rank are both wooing the beaut...      5.8   188       NaN   \n",
       "3  The fabled queen of Egypt's affair with Roman ...      5.2   446  $45,000    \n",
       "4  Loosely adapted from Dante's Divine Comedy and...      7.0  2237       NaN   \n",
       "\n",
       "   usa_gross_income worlwide_gross_income metascore reviews_from_users  \\\n",
       "0               NaN                   NaN       NaN                1.0   \n",
       "1               NaN                   NaN       NaN                7.0   \n",
       "2               NaN                   NaN       NaN                5.0   \n",
       "3               NaN                   NaN       NaN               25.0   \n",
       "4               NaN                   NaN       NaN               31.0   \n",
       "\n",
       "   reviews_from_critics  \n",
       "0                   2.0  \n",
       "1                   7.0  \n",
       "2                   2.0  \n",
       "3                   3.0  \n",
       "4                  14.0  \n",
       "\n",
       "[5 rows x 22 columns]"
      ],
      "text/html": "<div>\n<style scoped>\n    .dataframe tbody tr th:only-of-type {\n        vertical-align: middle;\n    }\n\n    .dataframe tbody tr th {\n        vertical-align: top;\n    }\n\n    .dataframe thead th {\n        text-align: right;\n    }\n</style>\n<table border=\"1\" class=\"dataframe\">\n  <thead>\n    <tr style=\"text-align: right;\">\n      <th></th>\n      <th>imdb_title_id</th>\n      <th>title</th>\n      <th>original_title</th>\n      <th>year</th>\n      <th>date_published</th>\n      <th>genre</th>\n      <th>duration</th>\n      <th>country</th>\n      <th>language</th>\n      <th>director</th>\n      <th>...</th>\n      <th>actors</th>\n      <th>description</th>\n      <th>avg_vote</th>\n      <th>votes</th>\n      <th>budget</th>\n      <th>usa_gross_income</th>\n      <th>worlwide_gross_income</th>\n      <th>metascore</th>\n      <th>reviews_from_users</th>\n      <th>reviews_from_critics</th>\n    </tr>\n  </thead>\n  <tbody>\n    <tr>\n      <th>0</th>\n      <td>tt0000009</td>\n      <td>Miss Jerry</td>\n      <td>Miss Jerry</td>\n      <td>1894</td>\n      <td>1894-10-09</td>\n      <td>Romance</td>\n      <td>45</td>\n      <td>USA</td>\n      <td>None</td>\n      <td>Alexander Black</td>\n      <td>...</td>\n      <td>Blanche Bayliss, William Courtenay, Chauncey D...</td>\n      <td>The adventures of a female reporter in the 1890s.</td>\n      <td>5.9</td>\n      <td>154</td>\n      <td>NaN</td>\n      <td>NaN</td>\n      <td>NaN</td>\n      <td>NaN</td>\n      <td>1.0</td>\n      <td>2.0</td>\n    </tr>\n    <tr>\n      <th>1</th>\n      <td>tt0000574</td>\n      <td>The Story of the Kelly Gang</td>\n      <td>The Story of the Kelly Gang</td>\n      <td>1906</td>\n      <td>12/26/06</td>\n      <td>Biography, Crime, Drama</td>\n      <td>70</td>\n      <td>Australia</td>\n      <td>None</td>\n      <td>Charles Tait</td>\n      <td>...</td>\n      <td>Elizabeth Tait, John Tait, Norman Campbell, Be...</td>\n      <td>True story of notorious Australian outlaw Ned ...</td>\n      <td>6.1</td>\n      <td>589</td>\n      <td>$2,250</td>\n      <td>NaN</td>\n      <td>NaN</td>\n      <td>NaN</td>\n      <td>7.0</td>\n      <td>7.0</td>\n    </tr>\n    <tr>\n      <th>2</th>\n      <td>tt0001892</td>\n      <td>Den sorte drøm</td>\n      <td>Den sorte drøm</td>\n      <td>1911</td>\n      <td>8/19/11</td>\n      <td>Drama</td>\n      <td>53</td>\n      <td>Germany, Denmark</td>\n      <td>NaN</td>\n      <td>Urban Gad</td>\n      <td>...</td>\n      <td>Asta Nielsen, Valdemar Psilander, Gunnar Helse...</td>\n      <td>Two men of high rank are both wooing the beaut...</td>\n      <td>5.8</td>\n      <td>188</td>\n      <td>NaN</td>\n      <td>NaN</td>\n      <td>NaN</td>\n      <td>NaN</td>\n      <td>5.0</td>\n      <td>2.0</td>\n    </tr>\n    <tr>\n      <th>3</th>\n      <td>tt0002101</td>\n      <td>Cleopatra</td>\n      <td>Cleopatra</td>\n      <td>1912</td>\n      <td>11/13/12</td>\n      <td>Drama, History</td>\n      <td>100</td>\n      <td>USA</td>\n      <td>English</td>\n      <td>Charles L. Gaskill</td>\n      <td>...</td>\n      <td>Helen Gardner, Pearl Sindelar, Miss Fielding, ...</td>\n      <td>The fabled queen of Egypt's affair with Roman ...</td>\n      <td>5.2</td>\n      <td>446</td>\n      <td>$45,000</td>\n      <td>NaN</td>\n      <td>NaN</td>\n      <td>NaN</td>\n      <td>25.0</td>\n      <td>3.0</td>\n    </tr>\n    <tr>\n      <th>4</th>\n      <td>tt0002130</td>\n      <td>L'Inferno</td>\n      <td>L'Inferno</td>\n      <td>1911</td>\n      <td>3/6/11</td>\n      <td>Adventure, Drama, Fantasy</td>\n      <td>68</td>\n      <td>Italy</td>\n      <td>Italian</td>\n      <td>Francesco Bertolini, Adolfo Padovan</td>\n      <td>...</td>\n      <td>Salvatore Papa, Arturo Pirovano, Giuseppe de L...</td>\n      <td>Loosely adapted from Dante's Divine Comedy and...</td>\n      <td>7.0</td>\n      <td>2237</td>\n      <td>NaN</td>\n      <td>NaN</td>\n      <td>NaN</td>\n      <td>NaN</td>\n      <td>31.0</td>\n      <td>14.0</td>\n    </tr>\n  </tbody>\n</table>\n<p>5 rows × 22 columns</p>\n</div>"
     },
     "metadata": {},
     "execution_count": 16
    }
   ],
   "source": [
    "# View IMDb dataframe\n",
    "IMDB_movies_df.head()"
   ]
  },
  {
   "cell_type": "code",
   "execution_count": 17,
   "metadata": {},
   "outputs": [
    {
     "output_type": "execute_result",
     "data": {
      "text/plain": [
       "  imdb_title_id                        title               original_title  \\\n",
       "0     tt0000009                   Miss Jerry                   Miss Jerry   \n",
       "1     tt0000574  The Story of the Kelly Gang  The Story of the Kelly Gang   \n",
       "2     tt0001892               Den sorte drøm               Den sorte drøm   \n",
       "3     tt0002101                    Cleopatra                    Cleopatra   \n",
       "4     tt0002130                    L'Inferno                    L'Inferno   \n",
       "\n",
       "   year                      genre  duration           country  \n",
       "0  1894                    Romance        45               USA  \n",
       "1  1906    Biography, Crime, Drama        70         Australia  \n",
       "2  1911                      Drama        53  Germany, Denmark  \n",
       "3  1912             Drama, History       100               USA  \n",
       "4  1911  Adventure, Drama, Fantasy        68             Italy  "
      ],
      "text/html": "<div>\n<style scoped>\n    .dataframe tbody tr th:only-of-type {\n        vertical-align: middle;\n    }\n\n    .dataframe tbody tr th {\n        vertical-align: top;\n    }\n\n    .dataframe thead th {\n        text-align: right;\n    }\n</style>\n<table border=\"1\" class=\"dataframe\">\n  <thead>\n    <tr style=\"text-align: right;\">\n      <th></th>\n      <th>imdb_title_id</th>\n      <th>title</th>\n      <th>original_title</th>\n      <th>year</th>\n      <th>genre</th>\n      <th>duration</th>\n      <th>country</th>\n    </tr>\n  </thead>\n  <tbody>\n    <tr>\n      <th>0</th>\n      <td>tt0000009</td>\n      <td>Miss Jerry</td>\n      <td>Miss Jerry</td>\n      <td>1894</td>\n      <td>Romance</td>\n      <td>45</td>\n      <td>USA</td>\n    </tr>\n    <tr>\n      <th>1</th>\n      <td>tt0000574</td>\n      <td>The Story of the Kelly Gang</td>\n      <td>The Story of the Kelly Gang</td>\n      <td>1906</td>\n      <td>Biography, Crime, Drama</td>\n      <td>70</td>\n      <td>Australia</td>\n    </tr>\n    <tr>\n      <th>2</th>\n      <td>tt0001892</td>\n      <td>Den sorte drøm</td>\n      <td>Den sorte drøm</td>\n      <td>1911</td>\n      <td>Drama</td>\n      <td>53</td>\n      <td>Germany, Denmark</td>\n    </tr>\n    <tr>\n      <th>3</th>\n      <td>tt0002101</td>\n      <td>Cleopatra</td>\n      <td>Cleopatra</td>\n      <td>1912</td>\n      <td>Drama, History</td>\n      <td>100</td>\n      <td>USA</td>\n    </tr>\n    <tr>\n      <th>4</th>\n      <td>tt0002130</td>\n      <td>L'Inferno</td>\n      <td>L'Inferno</td>\n      <td>1911</td>\n      <td>Adventure, Drama, Fantasy</td>\n      <td>68</td>\n      <td>Italy</td>\n    </tr>\n  </tbody>\n</table>\n</div>"
     },
     "metadata": {},
     "execution_count": 17
    }
   ],
   "source": [
    "# Select columns we want to keep\n",
    "imdb_df = IMDB_movies_df[['imdb_title_id','title','original_title','year','genre','duration','country']]\n",
    "imdb_df.head()"
   ]
  },
  {
   "cell_type": "code",
   "execution_count": 18,
   "metadata": {},
   "outputs": [
    {
     "output_type": "execute_result",
     "data": {
      "text/plain": [
       "imdb_title_id     85849\n",
       "title             85849\n",
       "original_title    85849\n",
       "year              85849\n",
       "genre             85849\n",
       "duration          85849\n",
       "country           85785\n",
       "dtype: int64"
      ]
     },
     "metadata": {},
     "execution_count": 18
    }
   ],
   "source": [
    "# Count rows/find missing data\n",
    "imdb_df.count()"
   ]
  },
  {
   "cell_type": "code",
   "execution_count": 19,
   "metadata": {},
   "outputs": [
    {
     "output_type": "execute_result",
     "data": {
      "text/plain": [
       "imdb_title_id     85785\n",
       "title             85785\n",
       "original_title    85785\n",
       "year              85785\n",
       "genre             85785\n",
       "duration          85785\n",
       "country           85785\n",
       "dtype: int64"
      ]
     },
     "metadata": {},
     "execution_count": 19
    }
   ],
   "source": [
    "# Remove any null values\n",
    "imdb_df2=imdb_df.dropna()\n",
    "imdb_df2.count()"
   ]
  },
  {
   "cell_type": "code",
   "execution_count": 20,
   "metadata": {},
   "outputs": [
    {
     "output_type": "execute_result",
     "data": {
      "text/plain": [
       "  imdb_title_id                        title               original_title  \\\n",
       "0     tt0000009                   Miss Jerry                   Miss Jerry   \n",
       "1     tt0000574  The Story of the Kelly Gang  The Story of the Kelly Gang   \n",
       "2     tt0001892               Den sorte drøm               Den sorte drøm   \n",
       "3     tt0002101                    Cleopatra                    Cleopatra   \n",
       "4     tt0002130                    L'Inferno                    L'Inferno   \n",
       "\n",
       "   year                      genre unique_id movie_title  duration  \\\n",
       "0  1894                    Romance                              45   \n",
       "1  1906    Biography, Crime, Drama                              70   \n",
       "2  1911                      Drama                              53   \n",
       "3  1912             Drama, History                             100   \n",
       "4  1911  Adventure, Drama, Fantasy                              68   \n",
       "\n",
       "            country  \n",
       "0               USA  \n",
       "1         Australia  \n",
       "2  Germany, Denmark  \n",
       "3               USA  \n",
       "4             Italy  "
      ],
      "text/html": "<div>\n<style scoped>\n    .dataframe tbody tr th:only-of-type {\n        vertical-align: middle;\n    }\n\n    .dataframe tbody tr th {\n        vertical-align: top;\n    }\n\n    .dataframe thead th {\n        text-align: right;\n    }\n</style>\n<table border=\"1\" class=\"dataframe\">\n  <thead>\n    <tr style=\"text-align: right;\">\n      <th></th>\n      <th>imdb_title_id</th>\n      <th>title</th>\n      <th>original_title</th>\n      <th>year</th>\n      <th>genre</th>\n      <th>unique_id</th>\n      <th>movie_title</th>\n      <th>duration</th>\n      <th>country</th>\n    </tr>\n  </thead>\n  <tbody>\n    <tr>\n      <th>0</th>\n      <td>tt0000009</td>\n      <td>Miss Jerry</td>\n      <td>Miss Jerry</td>\n      <td>1894</td>\n      <td>Romance</td>\n      <td></td>\n      <td></td>\n      <td>45</td>\n      <td>USA</td>\n    </tr>\n    <tr>\n      <th>1</th>\n      <td>tt0000574</td>\n      <td>The Story of the Kelly Gang</td>\n      <td>The Story of the Kelly Gang</td>\n      <td>1906</td>\n      <td>Biography, Crime, Drama</td>\n      <td></td>\n      <td></td>\n      <td>70</td>\n      <td>Australia</td>\n    </tr>\n    <tr>\n      <th>2</th>\n      <td>tt0001892</td>\n      <td>Den sorte drøm</td>\n      <td>Den sorte drøm</td>\n      <td>1911</td>\n      <td>Drama</td>\n      <td></td>\n      <td></td>\n      <td>53</td>\n      <td>Germany, Denmark</td>\n    </tr>\n    <tr>\n      <th>3</th>\n      <td>tt0002101</td>\n      <td>Cleopatra</td>\n      <td>Cleopatra</td>\n      <td>1912</td>\n      <td>Drama, History</td>\n      <td></td>\n      <td></td>\n      <td>100</td>\n      <td>USA</td>\n    </tr>\n    <tr>\n      <th>4</th>\n      <td>tt0002130</td>\n      <td>L'Inferno</td>\n      <td>L'Inferno</td>\n      <td>1911</td>\n      <td>Adventure, Drama, Fantasy</td>\n      <td></td>\n      <td></td>\n      <td>68</td>\n      <td>Italy</td>\n    </tr>\n  </tbody>\n</table>\n</div>"
     },
     "metadata": {},
     "execution_count": 20
    }
   ],
   "source": [
    "# Add new columns to IMDb dataframe that combines the year and movie title, and for new movie_id\n",
    "imdb_df2.insert(5,'unique_id','')\n",
    "imdb_df2.insert(6, 'movie_title','')\n",
    "imdb_df2.head()"
   ]
  },
  {
   "cell_type": "code",
   "execution_count": 21,
   "metadata": {},
   "outputs": [
    {
     "output_type": "execute_result",
     "data": {
      "text/plain": [
       "imdb_title_id     object\n",
       "title             object\n",
       "original_title    object\n",
       "year               int64\n",
       "genre             object\n",
       "unique_id         object\n",
       "movie_title       object\n",
       "duration           int64\n",
       "country           object\n",
       "dtype: object"
      ]
     },
     "metadata": {},
     "execution_count": 21
    }
   ],
   "source": [
    "# Find column types in case we need to convert to other type\n",
    "imdb_df2.dtypes"
   ]
  },
  {
   "cell_type": "code",
   "execution_count": 22,
   "metadata": {},
   "outputs": [
    {
     "output_type": "execute_result",
     "data": {
      "text/plain": [
       "  imdb_title_id                        title               original_title  \\\n",
       "0     tt0000009                   Miss Jerry                   Miss Jerry   \n",
       "1     tt0000574  The Story of the Kelly Gang  The Story of the Kelly Gang   \n",
       "2     tt0001892               Den sorte drøm               Den sorte drøm   \n",
       "3     tt0002101                    Cleopatra                    Cleopatra   \n",
       "4     tt0002130                    L'Inferno                    L'Inferno   \n",
       "\n",
       "   year                      genre unique_id  \\\n",
       "0  1894                    Romance             \n",
       "1  1906    Biography, Crime, Drama             \n",
       "2  1911                      Drama             \n",
       "3  1912             Drama, History             \n",
       "4  1911  Adventure, Drama, Fantasy             \n",
       "\n",
       "                        movie_title  duration           country  \n",
       "0                   1894-Miss Jerry        45               USA  \n",
       "1  1906-The Story of the Kelly Gang        70         Australia  \n",
       "2               1911-Den sorte drøm        53  Germany, Denmark  \n",
       "3                    1912-Cleopatra       100               USA  \n",
       "4                    1911-L'Inferno        68             Italy  "
      ],
      "text/html": "<div>\n<style scoped>\n    .dataframe tbody tr th:only-of-type {\n        vertical-align: middle;\n    }\n\n    .dataframe tbody tr th {\n        vertical-align: top;\n    }\n\n    .dataframe thead th {\n        text-align: right;\n    }\n</style>\n<table border=\"1\" class=\"dataframe\">\n  <thead>\n    <tr style=\"text-align: right;\">\n      <th></th>\n      <th>imdb_title_id</th>\n      <th>title</th>\n      <th>original_title</th>\n      <th>year</th>\n      <th>genre</th>\n      <th>unique_id</th>\n      <th>movie_title</th>\n      <th>duration</th>\n      <th>country</th>\n    </tr>\n  </thead>\n  <tbody>\n    <tr>\n      <th>0</th>\n      <td>tt0000009</td>\n      <td>Miss Jerry</td>\n      <td>Miss Jerry</td>\n      <td>1894</td>\n      <td>Romance</td>\n      <td></td>\n      <td>1894-Miss Jerry</td>\n      <td>45</td>\n      <td>USA</td>\n    </tr>\n    <tr>\n      <th>1</th>\n      <td>tt0000574</td>\n      <td>The Story of the Kelly Gang</td>\n      <td>The Story of the Kelly Gang</td>\n      <td>1906</td>\n      <td>Biography, Crime, Drama</td>\n      <td></td>\n      <td>1906-The Story of the Kelly Gang</td>\n      <td>70</td>\n      <td>Australia</td>\n    </tr>\n    <tr>\n      <th>2</th>\n      <td>tt0001892</td>\n      <td>Den sorte drøm</td>\n      <td>Den sorte drøm</td>\n      <td>1911</td>\n      <td>Drama</td>\n      <td></td>\n      <td>1911-Den sorte drøm</td>\n      <td>53</td>\n      <td>Germany, Denmark</td>\n    </tr>\n    <tr>\n      <th>3</th>\n      <td>tt0002101</td>\n      <td>Cleopatra</td>\n      <td>Cleopatra</td>\n      <td>1912</td>\n      <td>Drama, History</td>\n      <td></td>\n      <td>1912-Cleopatra</td>\n      <td>100</td>\n      <td>USA</td>\n    </tr>\n    <tr>\n      <th>4</th>\n      <td>tt0002130</td>\n      <td>L'Inferno</td>\n      <td>L'Inferno</td>\n      <td>1911</td>\n      <td>Adventure, Drama, Fantasy</td>\n      <td></td>\n      <td>1911-L'Inferno</td>\n      <td>68</td>\n      <td>Italy</td>\n    </tr>\n  </tbody>\n</table>\n</div>"
     },
     "metadata": {},
     "execution_count": 22
    }
   ],
   "source": [
    "# Combine title and year which we will then use to create a unique ID for each film \n",
    "# Used code from \"https://cmdlinetips.com/2018/11/how-to-join-two-text-columns-into-a-single-column-in-pandas/\" to help with this\n",
    "# Find out what error message means\n",
    "imdb_df2['movie_title']=imdb_df2['year'].astype(str).str.cat(imdb_df2['title'],sep=\"-\")\n",
    "imdb_df2.head()"
   ]
  },
  {
   "cell_type": "code",
   "execution_count": 23,
   "metadata": {},
   "outputs": [
    {
     "output_type": "execute_result",
     "data": {
      "text/plain": [
       "  imdb_title_id                        title               original_title  \\\n",
       "0     tt0000009                   Miss Jerry                   Miss Jerry   \n",
       "1     tt0000574  The Story of the Kelly Gang  The Story of the Kelly Gang   \n",
       "2     tt0001892               Den sorte drøm               Den sorte drøm   \n",
       "3     tt0002101                    Cleopatra                    Cleopatra   \n",
       "4     tt0002130                    L'Inferno                    L'Inferno   \n",
       "\n",
       "   year                      genre            unique_id  \\\n",
       "0  1894                    Romance  -409077616621258993   \n",
       "1  1906    Biography, Crime, Drama   866313333955130904   \n",
       "2  1911                      Drama   838600562071848784   \n",
       "3  1912             Drama, History  4145386050906707501   \n",
       "4  1911  Adventure, Drama, Fantasy -1455654637378694813   \n",
       "\n",
       "                        movie_title  duration           country  \n",
       "0                   1894-Miss Jerry        45               USA  \n",
       "1  1906-The Story of the Kelly Gang        70         Australia  \n",
       "2               1911-Den sorte drøm        53  Germany, Denmark  \n",
       "3                    1912-Cleopatra       100               USA  \n",
       "4                    1911-L'Inferno        68             Italy  "
      ],
      "text/html": "<div>\n<style scoped>\n    .dataframe tbody tr th:only-of-type {\n        vertical-align: middle;\n    }\n\n    .dataframe tbody tr th {\n        vertical-align: top;\n    }\n\n    .dataframe thead th {\n        text-align: right;\n    }\n</style>\n<table border=\"1\" class=\"dataframe\">\n  <thead>\n    <tr style=\"text-align: right;\">\n      <th></th>\n      <th>imdb_title_id</th>\n      <th>title</th>\n      <th>original_title</th>\n      <th>year</th>\n      <th>genre</th>\n      <th>unique_id</th>\n      <th>movie_title</th>\n      <th>duration</th>\n      <th>country</th>\n    </tr>\n  </thead>\n  <tbody>\n    <tr>\n      <th>0</th>\n      <td>tt0000009</td>\n      <td>Miss Jerry</td>\n      <td>Miss Jerry</td>\n      <td>1894</td>\n      <td>Romance</td>\n      <td>-409077616621258993</td>\n      <td>1894-Miss Jerry</td>\n      <td>45</td>\n      <td>USA</td>\n    </tr>\n    <tr>\n      <th>1</th>\n      <td>tt0000574</td>\n      <td>The Story of the Kelly Gang</td>\n      <td>The Story of the Kelly Gang</td>\n      <td>1906</td>\n      <td>Biography, Crime, Drama</td>\n      <td>866313333955130904</td>\n      <td>1906-The Story of the Kelly Gang</td>\n      <td>70</td>\n      <td>Australia</td>\n    </tr>\n    <tr>\n      <th>2</th>\n      <td>tt0001892</td>\n      <td>Den sorte drøm</td>\n      <td>Den sorte drøm</td>\n      <td>1911</td>\n      <td>Drama</td>\n      <td>838600562071848784</td>\n      <td>1911-Den sorte drøm</td>\n      <td>53</td>\n      <td>Germany, Denmark</td>\n    </tr>\n    <tr>\n      <th>3</th>\n      <td>tt0002101</td>\n      <td>Cleopatra</td>\n      <td>Cleopatra</td>\n      <td>1912</td>\n      <td>Drama, History</td>\n      <td>4145386050906707501</td>\n      <td>1912-Cleopatra</td>\n      <td>100</td>\n      <td>USA</td>\n    </tr>\n    <tr>\n      <th>4</th>\n      <td>tt0002130</td>\n      <td>L'Inferno</td>\n      <td>L'Inferno</td>\n      <td>1911</td>\n      <td>Adventure, Drama, Fantasy</td>\n      <td>-1455654637378694813</td>\n      <td>1911-L'Inferno</td>\n      <td>68</td>\n      <td>Italy</td>\n    </tr>\n  </tbody>\n</table>\n</div>"
     },
     "metadata": {},
     "execution_count": 23
    }
   ],
   "source": [
    "# Use hash function to generate unique movie id based on movie title\n",
    "imdb_df2['unique_id']=imdb_df2['imdb_title_id'].apply(hash)\n",
    "imdb_df2.head()"
   ]
  },
  {
   "cell_type": "code",
   "execution_count": 24,
   "metadata": {},
   "outputs": [
    {
     "output_type": "execute_result",
     "data": {
      "text/plain": [
       "             unique_id                       movie_title imdb_title_id  \\\n",
       "0  -409077616621258993                   1894-Miss Jerry     tt0000009   \n",
       "1   866313333955130904  1906-The Story of the Kelly Gang     tt0000574   \n",
       "2   838600562071848784               1911-Den sorte drøm     tt0001892   \n",
       "3  4145386050906707501                    1912-Cleopatra     tt0002101   \n",
       "4 -1455654637378694813                    1911-L'Inferno     tt0002130   \n",
       "\n",
       "                         title               original_title  year  \\\n",
       "0                   Miss Jerry                   Miss Jerry  1894   \n",
       "1  The Story of the Kelly Gang  The Story of the Kelly Gang  1906   \n",
       "2               Den sorte drøm               Den sorte drøm  1911   \n",
       "3                    Cleopatra                    Cleopatra  1912   \n",
       "4                    L'Inferno                    L'Inferno  1911   \n",
       "\n",
       "                       genre  duration           country  \n",
       "0                    Romance        45               USA  \n",
       "1    Biography, Crime, Drama        70         Australia  \n",
       "2                      Drama        53  Germany, Denmark  \n",
       "3             Drama, History       100               USA  \n",
       "4  Adventure, Drama, Fantasy        68             Italy  "
      ],
      "text/html": "<div>\n<style scoped>\n    .dataframe tbody tr th:only-of-type {\n        vertical-align: middle;\n    }\n\n    .dataframe tbody tr th {\n        vertical-align: top;\n    }\n\n    .dataframe thead th {\n        text-align: right;\n    }\n</style>\n<table border=\"1\" class=\"dataframe\">\n  <thead>\n    <tr style=\"text-align: right;\">\n      <th></th>\n      <th>unique_id</th>\n      <th>movie_title</th>\n      <th>imdb_title_id</th>\n      <th>title</th>\n      <th>original_title</th>\n      <th>year</th>\n      <th>genre</th>\n      <th>duration</th>\n      <th>country</th>\n    </tr>\n  </thead>\n  <tbody>\n    <tr>\n      <th>0</th>\n      <td>-409077616621258993</td>\n      <td>1894-Miss Jerry</td>\n      <td>tt0000009</td>\n      <td>Miss Jerry</td>\n      <td>Miss Jerry</td>\n      <td>1894</td>\n      <td>Romance</td>\n      <td>45</td>\n      <td>USA</td>\n    </tr>\n    <tr>\n      <th>1</th>\n      <td>866313333955130904</td>\n      <td>1906-The Story of the Kelly Gang</td>\n      <td>tt0000574</td>\n      <td>The Story of the Kelly Gang</td>\n      <td>The Story of the Kelly Gang</td>\n      <td>1906</td>\n      <td>Biography, Crime, Drama</td>\n      <td>70</td>\n      <td>Australia</td>\n    </tr>\n    <tr>\n      <th>2</th>\n      <td>838600562071848784</td>\n      <td>1911-Den sorte drøm</td>\n      <td>tt0001892</td>\n      <td>Den sorte drøm</td>\n      <td>Den sorte drøm</td>\n      <td>1911</td>\n      <td>Drama</td>\n      <td>53</td>\n      <td>Germany, Denmark</td>\n    </tr>\n    <tr>\n      <th>3</th>\n      <td>4145386050906707501</td>\n      <td>1912-Cleopatra</td>\n      <td>tt0002101</td>\n      <td>Cleopatra</td>\n      <td>Cleopatra</td>\n      <td>1912</td>\n      <td>Drama, History</td>\n      <td>100</td>\n      <td>USA</td>\n    </tr>\n    <tr>\n      <th>4</th>\n      <td>-1455654637378694813</td>\n      <td>1911-L'Inferno</td>\n      <td>tt0002130</td>\n      <td>L'Inferno</td>\n      <td>L'Inferno</td>\n      <td>1911</td>\n      <td>Adventure, Drama, Fantasy</td>\n      <td>68</td>\n      <td>Italy</td>\n    </tr>\n  </tbody>\n</table>\n</div>"
     },
     "metadata": {},
     "execution_count": 24
    }
   ],
   "source": [
    "# Rearrange column order so data is properly read into postgres\n",
    "imdb=imdb_df2.reindex(columns=['unique_id','movie_title','imdb_title_id',\n",
    "                                  'title','original_title','year',\n",
    "                                  'genre','duration','country'])\n",
    "imdb.head()"
   ]
  },
  {
   "cell_type": "code",
   "execution_count": 25,
   "metadata": {},
   "outputs": [
    {
     "output_type": "execute_result",
     "data": {
      "text/plain": [
       "                                              movie_title imdb_title_id  \\\n",
       "unique_id                                                                 \n",
       "-409077616621258993                       1894-Miss Jerry     tt0000009   \n",
       " 866313333955130904      1906-The Story of the Kelly Gang     tt0000574   \n",
       " 838600562071848784                   1911-Den sorte drøm     tt0001892   \n",
       " 4145386050906707501                       1912-Cleopatra     tt0002101   \n",
       "-1455654637378694813                       1911-L'Inferno     tt0002130   \n",
       "...                                                   ...           ...   \n",
       "-3483546144103097732                         2020-Le lion     tt9908390   \n",
       " 8965474185003017959  2020-De Beentjes van Sint-Hildegard     tt9911196   \n",
       "-6083446290931633814       2019-Padmavyuhathile Abhimanyu     tt9911774   \n",
       "-5259795891187343194               2019-Sokagin Çocuklari     tt9914286   \n",
       " 226017272281718265       2019-La vida sense la Sara Amat     tt9914942   \n",
       "\n",
       "                                               title  \\\n",
       "unique_id                                              \n",
       "-409077616621258993                       Miss Jerry   \n",
       " 866313333955130904      The Story of the Kelly Gang   \n",
       " 838600562071848784                   Den sorte drøm   \n",
       " 4145386050906707501                       Cleopatra   \n",
       "-1455654637378694813                       L'Inferno   \n",
       "...                                              ...   \n",
       "-3483546144103097732                         Le lion   \n",
       " 8965474185003017959  De Beentjes van Sint-Hildegard   \n",
       "-6083446290931633814       Padmavyuhathile Abhimanyu   \n",
       "-5259795891187343194               Sokagin Çocuklari   \n",
       " 226017272281718265       La vida sense la Sara Amat   \n",
       "\n",
       "                                      original_title  year  \\\n",
       "unique_id                                                    \n",
       "-409077616621258993                       Miss Jerry  1894   \n",
       " 866313333955130904      The Story of the Kelly Gang  1906   \n",
       " 838600562071848784                   Den sorte drøm  1911   \n",
       " 4145386050906707501                       Cleopatra  1912   \n",
       "-1455654637378694813                       L'Inferno  1911   \n",
       "...                                              ...   ...   \n",
       "-3483546144103097732                         Le lion  2020   \n",
       " 8965474185003017959  De Beentjes van Sint-Hildegard  2020   \n",
       "-6083446290931633814       Padmavyuhathile Abhimanyu  2019   \n",
       "-5259795891187343194               Sokagin Çocuklari  2019   \n",
       " 226017272281718265       La vida sense la Sara Amat  2019   \n",
       "\n",
       "                                          genre  duration           country  \n",
       "unique_id                                                                    \n",
       "-409077616621258993                     Romance        45               USA  \n",
       " 866313333955130904     Biography, Crime, Drama        70         Australia  \n",
       " 838600562071848784                       Drama        53  Germany, Denmark  \n",
       " 4145386050906707501             Drama, History       100               USA  \n",
       "-1455654637378694813  Adventure, Drama, Fantasy        68             Italy  \n",
       "...                                         ...       ...               ...  \n",
       "-3483546144103097732                     Comedy        95   France, Belgium  \n",
       " 8965474185003017959              Comedy, Drama       103       Netherlands  \n",
       "-6083446290931633814                      Drama       130             India  \n",
       "-5259795891187343194              Drama, Family        98            Turkey  \n",
       " 226017272281718265                       Drama        74             Spain  \n",
       "\n",
       "[85785 rows x 8 columns]"
      ],
      "text/html": "<div>\n<style scoped>\n    .dataframe tbody tr th:only-of-type {\n        vertical-align: middle;\n    }\n\n    .dataframe tbody tr th {\n        vertical-align: top;\n    }\n\n    .dataframe thead th {\n        text-align: right;\n    }\n</style>\n<table border=\"1\" class=\"dataframe\">\n  <thead>\n    <tr style=\"text-align: right;\">\n      <th></th>\n      <th>movie_title</th>\n      <th>imdb_title_id</th>\n      <th>title</th>\n      <th>original_title</th>\n      <th>year</th>\n      <th>genre</th>\n      <th>duration</th>\n      <th>country</th>\n    </tr>\n    <tr>\n      <th>unique_id</th>\n      <th></th>\n      <th></th>\n      <th></th>\n      <th></th>\n      <th></th>\n      <th></th>\n      <th></th>\n      <th></th>\n    </tr>\n  </thead>\n  <tbody>\n    <tr>\n      <th>-409077616621258993</th>\n      <td>1894-Miss Jerry</td>\n      <td>tt0000009</td>\n      <td>Miss Jerry</td>\n      <td>Miss Jerry</td>\n      <td>1894</td>\n      <td>Romance</td>\n      <td>45</td>\n      <td>USA</td>\n    </tr>\n    <tr>\n      <th>866313333955130904</th>\n      <td>1906-The Story of the Kelly Gang</td>\n      <td>tt0000574</td>\n      <td>The Story of the Kelly Gang</td>\n      <td>The Story of the Kelly Gang</td>\n      <td>1906</td>\n      <td>Biography, Crime, Drama</td>\n      <td>70</td>\n      <td>Australia</td>\n    </tr>\n    <tr>\n      <th>838600562071848784</th>\n      <td>1911-Den sorte drøm</td>\n      <td>tt0001892</td>\n      <td>Den sorte drøm</td>\n      <td>Den sorte drøm</td>\n      <td>1911</td>\n      <td>Drama</td>\n      <td>53</td>\n      <td>Germany, Denmark</td>\n    </tr>\n    <tr>\n      <th>4145386050906707501</th>\n      <td>1912-Cleopatra</td>\n      <td>tt0002101</td>\n      <td>Cleopatra</td>\n      <td>Cleopatra</td>\n      <td>1912</td>\n      <td>Drama, History</td>\n      <td>100</td>\n      <td>USA</td>\n    </tr>\n    <tr>\n      <th>-1455654637378694813</th>\n      <td>1911-L'Inferno</td>\n      <td>tt0002130</td>\n      <td>L'Inferno</td>\n      <td>L'Inferno</td>\n      <td>1911</td>\n      <td>Adventure, Drama, Fantasy</td>\n      <td>68</td>\n      <td>Italy</td>\n    </tr>\n    <tr>\n      <th>...</th>\n      <td>...</td>\n      <td>...</td>\n      <td>...</td>\n      <td>...</td>\n      <td>...</td>\n      <td>...</td>\n      <td>...</td>\n      <td>...</td>\n    </tr>\n    <tr>\n      <th>-3483546144103097732</th>\n      <td>2020-Le lion</td>\n      <td>tt9908390</td>\n      <td>Le lion</td>\n      <td>Le lion</td>\n      <td>2020</td>\n      <td>Comedy</td>\n      <td>95</td>\n      <td>France, Belgium</td>\n    </tr>\n    <tr>\n      <th>8965474185003017959</th>\n      <td>2020-De Beentjes van Sint-Hildegard</td>\n      <td>tt9911196</td>\n      <td>De Beentjes van Sint-Hildegard</td>\n      <td>De Beentjes van Sint-Hildegard</td>\n      <td>2020</td>\n      <td>Comedy, Drama</td>\n      <td>103</td>\n      <td>Netherlands</td>\n    </tr>\n    <tr>\n      <th>-6083446290931633814</th>\n      <td>2019-Padmavyuhathile Abhimanyu</td>\n      <td>tt9911774</td>\n      <td>Padmavyuhathile Abhimanyu</td>\n      <td>Padmavyuhathile Abhimanyu</td>\n      <td>2019</td>\n      <td>Drama</td>\n      <td>130</td>\n      <td>India</td>\n    </tr>\n    <tr>\n      <th>-5259795891187343194</th>\n      <td>2019-Sokagin Çocuklari</td>\n      <td>tt9914286</td>\n      <td>Sokagin Çocuklari</td>\n      <td>Sokagin Çocuklari</td>\n      <td>2019</td>\n      <td>Drama, Family</td>\n      <td>98</td>\n      <td>Turkey</td>\n    </tr>\n    <tr>\n      <th>226017272281718265</th>\n      <td>2019-La vida sense la Sara Amat</td>\n      <td>tt9914942</td>\n      <td>La vida sense la Sara Amat</td>\n      <td>La vida sense la Sara Amat</td>\n      <td>2019</td>\n      <td>Drama</td>\n      <td>74</td>\n      <td>Spain</td>\n    </tr>\n  </tbody>\n</table>\n<p>85785 rows × 8 columns</p>\n</div>"
     },
     "metadata": {},
     "execution_count": 25
    }
   ],
   "source": [
    "# Set index to unique_id so this can be our primary key in postgres\n",
    "imdb.set_index(\"unique_id\", inplace=True)\n",
    "imdb"
   ]
  },
  {
   "cell_type": "code",
   "execution_count": 26,
   "metadata": {},
   "outputs": [],
   "source": [
    "# Create database connection\n",
    "imdb_connection = f\"postgresql://{c.username}:{c.password}@{c.db_connect_string}\"\n",
    "engine = create_engine(imdb_connection)"
   ]
  },
  {
   "cell_type": "code",
   "execution_count": 27,
   "metadata": {},
   "outputs": [
    {
     "output_type": "execute_result",
     "data": {
      "text/plain": [
       "['movies', 'series', 'imdb', 'imdb_movies']"
      ]
     },
     "metadata": {},
     "execution_count": 27
    }
   ],
   "source": [
    "# Confirm tables exist\n",
    "engine.table_names()"
   ]
  },
  {
   "cell_type": "code",
   "execution_count": 28,
   "metadata": {},
   "outputs": [],
   "source": [
    "# Load dataframes into database\n",
    "movies_df.to_sql(name=\"movies\", con=engine, if_exists=\"append\", index=True)\n",
    "series_df.to_sql(name=\"series\", con=engine, if_exists=\"append\", index=True)\n",
    "imdb.to_sql(name=\"imdb_movies\", con=engine, if_exists=\"append\", index=True, method=\"multi\")"
   ]
  },
  {
   "cell_type": "code",
   "execution_count": 29,
   "metadata": {},
   "outputs": [],
   "source": [
    "series_df.to_html('series_df_tables.html', max_rows=100)"
   ]
  }
 ],
 "metadata": {
  "kernelspec": {
   "display_name": "Python 3",
   "language": "python",
   "name": "python3"
  },
  "language_info": {
   "codemirror_mode": {
    "name": "ipython",
    "version": 3
   },
   "file_extension": ".py",
   "mimetype": "text/x-python",
   "name": "python",
   "nbconvert_exporter": "python",
   "pygments_lexer": "ipython3",
   "version": "3.6.10-final"
  }
 },
 "nbformat": 4,
 "nbformat_minor": 4
}